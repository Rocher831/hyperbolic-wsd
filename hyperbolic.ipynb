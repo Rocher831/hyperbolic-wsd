{
 "cells": [
  {
   "cell_type": "code",
   "execution_count": 4,
   "metadata": {},
   "outputs": [],
   "source": [
    "from collections import defaultdict\n",
    "from operator import itemgetter\n",
    "\n",
    "import numpy as np\n"
   ]
  },
  {
   "cell_type": "code",
   "execution_count": 5,
   "metadata": {},
   "outputs": [],
   "source": [
    "def LoadEmbedding(fname):\n",
    "    with open(fname, 'r') as f:\n",
    "        lines = f.readlines()\n",
    "    lines = [line.strip() for line in lines]\n",
    "    return lines\n",
    "\n",
    "\n",
    "def LoadEdges(fname):\n",
    "    with open(fname, 'r') as f:\n",
    "        lines = f.readlines()\n",
    "    lines = [line.strip() for line in lines]\n",
    "    return lines\n",
    "\n",
    "\n",
    "def LoadMappings(fname):\n",
    "    with open(fname, 'r') as f:\n",
    "        lines = f.readlines()\n",
    "    lines = [line.strip() for line in lines]\n",
    "    return lines\n"
   ]
  },
  {
   "cell_type": "code",
   "execution_count": 6,
   "metadata": {},
   "outputs": [],
   "source": [
    "# Hyperbolic distance between two points\n",
    "\n",
    "def dist(u, v):\n",
    "    z = 2 * np.linalg.norm(u - v) ** 2\n",
    "    uu = 1\n",
    "    nu = np.linalg.norm(u)\n",
    "    nv = np.linalg.norm(v)\n",
    "    if nu != 1 and nv != 1:\n",
    "        uu = 1. + z/((1-nu**2)*(1-nv**2))\n",
    "    return np.arccosh(uu)\n"
   ]
  },
  {
   "cell_type": "code",
   "execution_count": 7,
   "metadata": {},
   "outputs": [],
   "source": [
    "def ProcessEmbeddings(emb, dim):\n",
    "    emb = emb[1:]\n",
    "    embDict = dict()\n",
    "    tau = 0.0\n",
    "    for it, line in enumerate(emb):\n",
    "        lst = line.split(',')\n",
    "        currTau = np.float64(lst[-1])\n",
    "        idx = np.int64(lst[0])\n",
    "        embDict[idx] = np.asarray(lst[1:-1], dtype=np.float64)\n",
    "        assert embDict[idx].shape[0] == dim\n",
    "        tau = currTau\n",
    "    return embDict, tau\n",
    "\n",
    "\n",
    "def BuildWMatrix(embDict, dim):\n",
    "    vocabSize = len(embDict)\n",
    "    W = np.zeros((vocabSize, dim), dtype=np.float64)\n",
    "    for idx, emb in embDict.items():\n",
    "        W[idx, :] = emb\n",
    "    return W, vocabSize\n",
    "\n"
   ]
  },
  {
   "cell_type": "code",
   "execution_count": 8,
   "metadata": {},
   "outputs": [],
   "source": [
    "def BuildEdgeDict(fname):\n",
    "    edges = LoadEdges(fname)\n",
    "    edgeDict = defaultdict(list)\n",
    "    for edge in edges:\n",
    "        k, v = edge.split(' ')\n",
    "        edgeDict[np.int64(k)].append(np.int64(v))\n",
    "    return edgeDict\n",
    "\n",
    "\n",
    "def BuildMappingDict(fname):\n",
    "    mappings = LoadMappings(fname)\n",
    "    mappingDict = dict()\n",
    "    revMapping = dict()\n",
    "    for mapping in mappings:\n",
    "        k, v = mapping.split(' ')\n",
    "        mappingDict[k] = np.int64(v)\n",
    "        revMapping[np.int64(v)] = k\n",
    "    return mappingDict, revMapping\n",
    "\n"
   ]
  },
  {
   "cell_type": "code",
   "execution_count": 9,
   "metadata": {},
   "outputs": [],
   "source": [
    "def build(fedge, fmap, femb, dim, key):\n",
    "    edgeDict = BuildEdgeDict(fedge)\n",
    "    mappingDict, revIndex = BuildMappingDict(fmap)\n",
    "    emb = LoadEmbedding(femb)\n",
    "    embDict, tau = ProcessEmbeddings(emb, dim)\n",
    "    print(f\"tau={tau}\")\n",
    "    W, vocabSize = BuildWMatrix(embDict, dim)\n",
    "\n",
    "    word = key\n",
    "    wid = mappingDict[word]\n",
    "    wrels = edgeDict[mappingDict[word]]\n",
    "\n",
    "    d = []\n",
    "    wvec = embDict[wid]\n",
    "    for idx in range(W.shape[0]):\n",
    "        vec = W[idx, :]\n",
    "        if not np.equal(vec, wvec).all():\n",
    "            d.append((idx, dist(wvec, vec) / tau))\n",
    "    print()\n",
    "    print()\n",
    "    print(f\"Relations for {word} in embedding using distance metric\")\n",
    "    bestMatches = []\n",
    "    for k, v in sorted(d, key=itemgetter(1))[:13]:\n",
    "        print(f\"{revIndex[k]} {v}\")\n",
    "        bestMatches.append(revIndex[k])\n",
    "    print()\n",
    "    print()\n",
    "    print(f\"Children of {word} in graph\")\n",
    "    for wrel in wrels:\n",
    "        print(f\"\\t{revIndex[wrel]}\")\n",
    "    return bestMatches\n",
    "\n",
    "\n",
    "def buildWithEmb(fedge, fmap, emb, dim, key):\n",
    "    edgeDict = BuildEdgeDict(fedge)\n",
    "    mappingDict, revIndex = BuildMappingDict(fmap)\n",
    "    embDict, tau = ProcessEmbeddings(emb, dim)\n",
    "    print(f\"tau={tau}\")\n",
    "    W, vocabSize = BuildWMatrix(embDict, dim)\n",
    "\n",
    "    word = key\n",
    "    wid = mappingDict[word]\n",
    "    wrels = edgeDict[mappingDict[word]]\n",
    "\n",
    "    d = []\n",
    "    wvec = embDict[wid]\n",
    "    for idx in range(W.shape[0]):\n",
    "        vec = W[idx, :]\n",
    "        if not np.equal(vec, wvec).all():\n",
    "            d.append((idx, dist(wvec, vec) / tau))\n",
    "    print()\n",
    "    print()\n",
    "    print(f\"Relations for {word} in embedding using distance metric\")\n",
    "    bestMatches = []\n",
    "    for k, v in sorted(d, key=itemgetter(1))[:13]:\n",
    "        print(f\"{revIndex[k]} {v}\")\n",
    "        bestMatches.append(revIndex[k])\n",
    "    print()\n",
    "    print()\n",
    "    print(f\"Children of {word} in graph\")\n",
    "    for wrel in wrels:\n",
    "        print(f\"\\t{revIndex[wrel]}\")\n",
    "    return bestMatches"
   ]
  },
  {
   "cell_type": "code",
   "execution_count": 126,
   "metadata": {},
   "outputs": [
    {
     "name": "stdout",
     "output_type": "stream",
     "text": [
      "tau=2.1994093228131533\n",
      "\n",
      "\n",
      "Relations for interact.v.01 in embedding using distance metric\n",
      "patronize.v.03 0.9999999965586915\n",
      "treat.v.01 0.9999999966782599\n",
      "transact.v.01 0.9999999973199245\n",
      "socialize.v.01 0.9999999974391658\n",
      "intervene.v.01 0.9999999979665186\n",
      "meet.v.07 0.9999999984989781\n",
      "get_in_touch.v.01 0.999999998631977\n",
      "consort.v.01 0.9999999986358267\n",
      "communicate.v.02 0.9999999991339558\n",
      "*root* 1.000000000008325\n",
      "get_around_to.v.01 1.1521209005443203\n",
      "go.v.02 1.1665013095787333\n",
      "condescend.v.02 1.2172611543929448\n",
      "\n",
      "\n",
      "Children of interact.v.01 in graph\n",
      "\tcommunicate.v.02\n",
      "\tconsort.v.01\n",
      "\tget_in_touch.v.01\n",
      "\tintervene.v.01\n",
      "\tmeet.v.07\n",
      "\tpatronize.v.03\n",
      "\tsocialize.v.01\n",
      "\ttransact.v.01\n",
      "\ttreat.v.01\n"
     ]
    },
    {
     "data": {
      "text/plain": [
       "['patronize.v.03',\n",
       " 'treat.v.01',\n",
       " 'transact.v.01',\n",
       " 'socialize.v.01',\n",
       " 'intervene.v.01',\n",
       " 'meet.v.07',\n",
       " 'get_in_touch.v.01',\n",
       " 'consort.v.01',\n",
       " 'communicate.v.02',\n",
       " '*root*',\n",
       " 'get_around_to.v.01',\n",
       " 'go.v.02',\n",
       " 'condescend.v.02']"
      ]
     },
     "execution_count": 126,
     "metadata": {},
     "output_type": "execute_result"
    }
   ],
   "source": [
    "build('data/edges/small-wordnet.edges', 'data/mappings/small-wordnet.mapping', \\\n",
    "      'data/emb/smlwnr10.emb', 10, 'interact.v.01')"
   ]
  },
  {
   "cell_type": "code",
   "execution_count": 11,
   "metadata": {},
   "outputs": [
    {
     "name": "stdout",
     "output_type": "stream",
     "text": [
      "tau=2.1994093228131533\n",
      "\n",
      "\n",
      "Relations for patronize.v.03 in embedding using distance metric\n",
      "interact.v.01 0.9999999965586915\n",
      "stoop_to.v.01 1.0000000108099445\n",
      "transact.v.01 1.4679328049012716\n",
      "intervene.v.01 1.5219365402686673\n",
      "communicate.v.02 1.5255099305988278\n",
      "treat.v.01 1.556193164095037\n",
      "socialize.v.01 1.6702956975008312\n",
      "consort.v.01 1.7209652533198887\n",
      "get_in_touch.v.01 1.8174770372076614\n",
      "*root* 1.8402061311961282\n",
      "get_around_to.v.01 1.8828823323648947\n",
      "meet.v.07 1.903019503817008\n",
      "gloss_over.v.01 1.9032203343027059\n",
      "\n",
      "\n",
      "Children of patronize.v.03 in graph\n",
      "\tstoop_to.v.01\n"
     ]
    },
    {
     "data": {
      "text/plain": [
       "['interact.v.01',\n",
       " 'stoop_to.v.01',\n",
       " 'transact.v.01',\n",
       " 'intervene.v.01',\n",
       " 'communicate.v.02',\n",
       " 'treat.v.01',\n",
       " 'socialize.v.01',\n",
       " 'consort.v.01',\n",
       " 'get_in_touch.v.01',\n",
       " '*root*',\n",
       " 'get_around_to.v.01',\n",
       " 'meet.v.07',\n",
       " 'gloss_over.v.01']"
      ]
     },
     "execution_count": 11,
     "metadata": {},
     "output_type": "execute_result"
    }
   ],
   "source": [
    "build('data/edges/small-wordnet.edges', 'data/mappings/small-wordnet.mapping', \\\n",
    "      'data/emb/smlwnr10.emb', 10, 'patronize.v.03')"
   ]
  },
  {
   "cell_type": "code",
   "execution_count": 127,
   "metadata": {},
   "outputs": [
    {
     "name": "stdout",
     "output_type": "stream",
     "text": [
      "tau=4.3988186456263065\n",
      "\n",
      "\n",
      "Relations for apple.n.01 in embedding using distance metric\n",
      "fruit.n.01 1.0003753562559496\n",
      "natural_object.n.01 2.000377853723166\n",
      "physical_entity.n.01 3.0003779119412344\n",
      "living_thing.n.01 3.8234675779643426\n",
      "entity.n.01 3.831769813611903\n",
      "abstraction.n.06 4.772116442658565\n",
      "tree.n.01 4.823418464545469\n",
      "social_group.n.01 5.603823020779371\n",
      "artifact.n.01 5.714554762602499\n",
      "apple.n.02 5.823136354158206\n",
      "company.n.01 6.603780823741919\n",
      "machine.n.01 6.714532590984551\n",
      "apple.n.03 7.604546414482919\n",
      "\n",
      "\n",
      "Children of apple.n.01 in graph\n"
     ]
    }
   ],
   "source": [
    "targets = build('data/edges/apple-senses.edges', 'data/mappings/apple-senses.mapping', 'data/emb/as10.emb', 10, 'apple.n.01')\n"
   ]
  },
  {
   "cell_type": "code",
   "execution_count": 128,
   "metadata": {},
   "outputs": [
    {
     "name": "stdout",
     "output_type": "stream",
     "text": [
      "tau=4.3988186456263065\n",
      "\n",
      "\n",
      "Relations for fruit.n.01 in embedding using distance metric\n",
      "natural_object.n.01 1.0000024974753996\n",
      "apple.n.01 1.0003753562559496\n",
      "physical_entity.n.01 2.000002555693464\n",
      "living_thing.n.01 2.823092227928694\n",
      "entity.n.01 2.831394463233553\n",
      "abstraction.n.06 3.771741092306799\n",
      "tree.n.01 3.8230431145138755\n",
      "social_group.n.01 4.603447670432201\n",
      "artifact.n.01 4.714179412250374\n",
      "apple.n.02 4.822761004126613\n",
      "company.n.01 5.6034054733947505\n",
      "machine.n.01 5.714157240632425\n",
      "apple.n.03 6.60417106413575\n",
      "\n",
      "\n",
      "Children of fruit.n.01 in graph\n",
      "\tapple.n.01\n"
     ]
    }
   ],
   "source": [
    "targets = build('data/edges/apple-senses.edges', 'data/mappings/apple-senses.mapping', 'data/emb/as10.emb', 10, 'fruit.n.01')\n"
   ]
  },
  {
   "cell_type": "code",
   "execution_count": 131,
   "metadata": {},
   "outputs": [
    {
     "name": "stdout",
     "output_type": "stream",
     "text": [
      "tau=4.3988186456263065\n",
      "\n",
      "\n",
      "Relations for apple.n.01 in embedding using distance metric\n",
      "fruit.n.01 1.0003753562559496\n",
      "natural_object.n.01 2.000377853723166\n",
      "physical_entity.n.01 3.0003779119412344\n",
      "living_thing.n.01 3.8234675779643426\n",
      "entity.n.01 3.831769813611903\n",
      "abstraction.n.06 4.772116442658565\n",
      "tree.n.01 4.823418464545469\n",
      "social_group.n.01 5.603823020779371\n",
      "artifact.n.01 5.714554762602499\n",
      "apple.n.02 5.823136354158206\n",
      "company.n.01 6.603780823741919\n",
      "machine.n.01 6.714532590984551\n",
      "apple.n.03 7.604546414482919\n",
      "\n",
      "\n",
      "Children of apple.n.01 in graph\n",
      "defaultdict(<class 'list'>, {0: [1, 2], 1: [3, 4], 2: [5, 6], 3: [7], 4: [8], 5: [9], 6: [10], 7: [11], 8: [12], 9: [13], 10: [14]})\n"
     ]
    }
   ],
   "source": [
    "targets = build('data/edges/apple-senses.edges', 'data/mappings/apple-senses.mapping', 'data/emb/as10.emb', 10, 'apple.n.01')\n",
    "edges = BuildEdgeDict('data/edges/apple-senses.edges')\n",
    "print(edges)"
   ]
  },
  {
   "cell_type": "code",
   "execution_count": 10,
   "metadata": {},
   "outputs": [
    {
     "name": "stdout",
     "output_type": "stream",
     "text": [
      "tau=4.3988186456263065\n",
      "\n",
      "\n",
      "Relations for apple.n.02 in embedding using distance metric\n",
      "tree.n.01 0.9997178951984218\n",
      "living_thing.n.01 1.9997092313129867\n",
      "physical_entity.n.01 2.999709306937243\n",
      "natural_object.n.01 3.82279895610494\n",
      "entity.n.01 3.9404916876831533\n",
      "fruit.n.01 4.822761004126613\n",
      "abstraction.n.06 4.879597805855609\n",
      "social_group.n.01 5.71140583888185\n",
      "artifact.n.01 5.8220562519409915\n",
      "apple.n.01 5.823136354158206\n",
      "company.n.01 6.711363673980225\n",
      "machine.n.01 6.822034084239871\n",
      "apple.n.03 7.7121292647261575\n",
      "\n",
      "\n",
      "Children of apple.n.02 in graph\n"
     ]
    }
   ],
   "source": [
    "targets = build('data/edges/apple-senses.edges', 'data/mappings/apple-senses.mapping', 'data/emb/as10.emb', 10, 'apple.n.02')"
   ]
  }
 ],
 "metadata": {
  "kernelspec": {
   "display_name": "Python 3",
   "language": "python",
   "name": "python3"
  },
  "language_info": {
   "codemirror_mode": {
    "name": "ipython",
    "version": 3
   },
   "file_extension": ".py",
   "mimetype": "text/x-python",
   "name": "python",
   "nbconvert_exporter": "python",
   "pygments_lexer": "ipython3",
   "version": "3.10.12"
  },
  "orig_nbformat": 4
 },
 "nbformat": 4,
 "nbformat_minor": 2
}
