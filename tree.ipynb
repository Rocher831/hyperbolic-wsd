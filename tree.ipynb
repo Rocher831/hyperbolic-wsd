{
 "cells": [
  {
   "cell_type": "code",
   "execution_count": 1,
   "metadata": {},
   "outputs": [],
   "source": [
    "import networkx as nx"
   ]
  },
  {
   "cell_type": "code",
   "execution_count": 55,
   "metadata": {},
   "outputs": [],
   "source": [
    "def ReadTree():\n",
    "    return nx.read_gml('data/wordnet.gml')\n",
    "\n",
    "\n",
    "def BuildIndex(H):\n",
    "    idx = {}\n",
    "    counter = 0\n",
    "    root = [n for n,d in H.in_degree() if d==0][0]\n",
    "    for level in nx.bfs_layers(H, root):\n",
    "        for node in level:\n",
    "            if idx.get(node) is None:\n",
    "                idx[node] = counter\n",
    "                counter += 1\n",
    "            else:\n",
    "                raise Exception('Duplicated node')\n",
    "    return root, idx"
   ]
  },
  {
   "cell_type": "code",
   "execution_count": 71,
   "metadata": {},
   "outputs": [],
   "source": [
    "def GetEdges(H, idx, root):\n",
    "    edges = []\n",
    "    for level in nx.bfs_edges(H, root):\n",
    "        k, v = level\n",
    "        edges.append((idx[k], idx[v]))\n",
    "    return edges\n"
   ]
  },
  {
   "cell_type": "code",
   "execution_count": 73,
   "metadata": {},
   "outputs": [],
   "source": [
    "def WriteEdges(fname, edges):\n",
    "    with open(fname, 'w') as f:\n",
    "        for edge in edges:\n",
    "            f.write('{} {}\\n'.format(edge[0], edge[1]))\n"
   ]
  },
  {
   "cell_type": "code",
   "execution_count": 74,
   "metadata": {},
   "outputs": [],
   "source": [
    "H = ReadTree()\n",
    "root, index = BuildIndex(H)\n",
    "edges = GetEdges(H, index, root)\n",
    "WriteEdges('lab3.edges', edges)"
   ]
  }
 ],
 "metadata": {
  "kernelspec": {
   "display_name": "Python 3",
   "language": "python",
   "name": "python3"
  },
  "language_info": {
   "codemirror_mode": {
    "name": "ipython",
    "version": 3
   },
   "file_extension": ".py",
   "mimetype": "text/x-python",
   "name": "python",
   "nbconvert_exporter": "python",
   "pygments_lexer": "ipython3",
   "version": "3.10.12"
  },
  "orig_nbformat": 4
 },
 "nbformat": 4,
 "nbformat_minor": 2
}
