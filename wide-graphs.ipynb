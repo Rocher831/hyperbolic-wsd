{
 "cells": [
  {
   "cell_type": "code",
   "execution_count": 2,
   "metadata": {},
   "outputs": [],
   "source": [
    "# Checking distances of wide graphs in hyperbolic space\n"
   ]
  },
  {
   "cell_type": "code",
   "execution_count": 3,
   "metadata": {},
   "outputs": [],
   "source": [
    "import networkx as nx"
   ]
  },
  {
   "cell_type": "code",
   "execution_count": 7,
   "metadata": {},
   "outputs": [],
   "source": [
    "# Helper functions to write the edge mappings to a file\n",
    "\n",
    "def GetEdges(H, root):\n",
    "    edges = []\n",
    "    for level in nx.bfs_edges(H, root):\n",
    "        k, v = level\n",
    "        edges.append((k, v))\n",
    "    return edges\n",
    "\n",
    "\n",
    "def WriteEdges(fname, edges):\n",
    "    with open(fname, 'w') as f:\n",
    "        for edge in edges:\n",
    "            f.write('{} {}\\n'.format(edge[0], edge[1]))\n"
   ]
  },
  {
   "cell_type": "code",
   "execution_count": 13,
   "metadata": {},
   "outputs": [],
   "source": [
    "# Create a graph with 10 nodes and 9 edges\n",
    "\n",
    "F = nx.DiGraph()\n",
    "F.add_nodes_from([j for j in range(10)])\n",
    "F.add_edges_from([(1, j) for j in range(2, 10)])\n",
    "WriteEdges('data/edges/10.edges', GetEdges(F, 1))\n"
   ]
  },
  {
   "cell_type": "code",
   "execution_count": 10,
   "metadata": {},
   "outputs": [],
   "source": [
    "# Create a graph with 100 nodes and 99 edges\n",
    "\n",
    "G = nx.DiGraph()\n",
    "G.add_nodes_from([j for j in range(1, 100)])\n",
    "G.add_edges_from([(1, j) for j in range(2, 100)])\n",
    "WriteEdges('data/edges/100.edges', GetEdges(G, 1))\n"
   ]
  },
  {
   "cell_type": "code",
   "execution_count": 11,
   "metadata": {},
   "outputs": [],
   "source": [
    "# Create a graph with 1000 nodes and 999 edges\n",
    "\n",
    "H = nx.DiGraph()\n",
    "H.add_nodes_from([j for j in range(1, 1000)])\n",
    "H.add_edges_from([(1, j) for j in range(2, 1000)])\n",
    "WriteEdges('data/edges/1000.edges', GetEdges(H, 1))\n"
   ]
  },
  {
   "cell_type": "code",
   "execution_count": 12,
   "metadata": {},
   "outputs": [],
   "source": [
    "# Create a graph with 10000 nodes and 9999 edges\n",
    "\n",
    "I = nx.DiGraph()\n",
    "I.add_nodes_from([j for j in range(1, 10000)])\n",
    "I.add_edges_from([(1, j) for j in range(2, 10000)])\n",
    "WriteEdges('data/edges/10000.edges', GetEdges(I, 1))\n"
   ]
  }
 ],
 "metadata": {
  "kernelspec": {
   "display_name": "Python 3",
   "language": "python",
   "name": "python3"
  },
  "language_info": {
   "codemirror_mode": {
    "name": "ipython",
    "version": 3
   },
   "file_extension": ".py",
   "mimetype": "text/x-python",
   "name": "python",
   "nbconvert_exporter": "python",
   "pygments_lexer": "ipython3",
   "version": "3.10.12"
  },
  "orig_nbformat": 4
 },
 "nbformat": 4,
 "nbformat_minor": 2
}
