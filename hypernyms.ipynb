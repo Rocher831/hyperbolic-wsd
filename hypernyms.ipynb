{
 "cells": [
  {
   "cell_type": "code",
   "execution_count": 4,
   "metadata": {},
   "outputs": [],
   "source": [
    "from nltk.corpus import wordnet as wn\n",
    "import nltk"
   ]
  },
  {
   "cell_type": "code",
   "execution_count": 5,
   "metadata": {},
   "outputs": [
    {
     "name": "stderr",
     "output_type": "stream",
     "text": [
      "[nltk_data] Downloading package wordnet to /Users/siva/nltk_data...\n"
     ]
    },
    {
     "data": {
      "text/plain": [
       "True"
      ]
     },
     "execution_count": 5,
     "metadata": {},
     "output_type": "execute_result"
    }
   ],
   "source": [
    "nltk.download('wordnet')"
   ]
  },
  {
   "cell_type": "code",
   "execution_count": 27,
   "metadata": {},
   "outputs": [
    {
     "name": "stdout",
     "output_type": "stream",
     "text": [
      "cat.n.01 feline mammal usually having thick soft fur and no ability to roar: domestic cats; wildcats\n",
      "guy.n.01 an informal term for a youth or man\n",
      "cat.n.03 a spiteful woman gossip\n",
      "kat.n.01 the leaves of the shrub Catha edulis which are chewed like tobacco or used to make tea; has the effect of a euphoric stimulant\n",
      "cat-o'-nine-tails.n.01 a whip with nine knotted cords\n",
      "caterpillar.n.02 a large tracked vehicle that is propelled by two endless metal belts; frequently used for moving earth in construction and farm work\n",
      "big_cat.n.01 any of several large cats typically able to roar and living in the wild\n",
      "computerized_tomography.n.01 a method of examining body organs by scanning them with X rays and using a computer to construct a series of cross-sectional scans along a single axis\n",
      "[['true_cat'], ['bozo', 'guy', 'hombre'], [], ['African_tea', 'Arabian_tea', 'kat', 'khat', 'qat', 'quat'], [\"cat-o'-nine-tails\"], ['Caterpillar'], ['big_cat'], ['CAT', 'CT', 'computed_axial_tomography', 'computed_tomography', 'computerized_axial_tomography', 'computerized_tomography'], [], ['barf', 'be_sick', 'cast', 'chuck', 'disgorge', 'honk', 'puke', 'purge', 'regorge', 'regurgitate', 'retch', 'sick', 'spew', 'spue', 'throw_up', 'upchuck', 'vomit', 'vomit_up']]\n"
     ]
    }
   ],
   "source": [
    "synsets = wn.synsets('cat', pos=wn.NOUN)\n",
    "for w in synsets:\n",
    "    print(w.name(), w.definition())\n",
    "\n",
    "print(wn.synonyms('cat'))\n"
   ]
  }
 ],
 "metadata": {
  "kernelspec": {
   "display_name": "Python 3",
   "language": "python",
   "name": "python3"
  },
  "language_info": {
   "codemirror_mode": {
    "name": "ipython",
    "version": 3
   },
   "file_extension": ".py",
   "mimetype": "text/x-python",
   "name": "python",
   "nbconvert_exporter": "python",
   "pygments_lexer": "ipython3",
   "version": "3.10.12"
  },
  "orig_nbformat": 4
 },
 "nbformat": 4,
 "nbformat_minor": 2
}
